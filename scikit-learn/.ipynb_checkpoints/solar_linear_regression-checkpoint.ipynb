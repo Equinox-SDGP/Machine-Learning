{
 "cells": [
  {
   "cell_type": "markdown",
   "id": "17eb7ab4-c707-4c10-a168-f2857885893a",
   "metadata": {
    "tags": []
   },
   "source": [
    "# Solar Linear Regression Model\n",
    "### This file used scikit-learn linear regression model to fit to the solar data given\n",
    "\n"
   ]
  },
  {
   "cell_type": "markdown",
   "id": "3347bc4b-e98c-4b04-912d-dacbf6642725",
   "metadata": {},
   "source": [
    "#### Installing Dependencies and importing libraries"
   ]
  },
  {
   "cell_type": "code",
   "execution_count": null,
   "id": "9eb7964d-4180-4272-aea6-7f7c8997f3ca",
   "metadata": {
    "tags": []
   },
   "outputs": [],
   "source": [
    "# Installing Dependencies\n",
    "%pip install -U scikit-learn\n",
    "%pip install -U pandas"
   ]
  },
  {
   "cell_type": "code",
   "execution_count": null,
   "id": "3225cf60-adf1-4709-9556-e2f85cb1845b",
   "metadata": {
    "tags": []
   },
   "outputs": [],
   "source": [
    "# Importing matplotlib, numpy and pandas\n",
    "import matplotlib.pyplot as plt\n",
    "import numpy as np\n",
    "import pandas as pd"
   ]
  },
  {
   "cell_type": "code",
   "execution_count": null,
   "id": "4130bbdd-7c86-4442-847e-d6fc46818bfb",
   "metadata": {
    "tags": []
   },
   "outputs": [],
   "source": [
    "# importing scikit learn models and error models\n",
    "from sklearn.model_selection import train_test_split\n",
    "from sklearn.linear_model import LinearRegression\n",
    "from sklearn.metrics import mean_squared_error"
   ]
  },
  {
   "cell_type": "markdown",
   "id": "20b64579-c247-456b-8c01-109a37285ba2",
   "metadata": {},
   "source": [
    "#### Importing solar csv datasets"
   ]
  },
  {
   "cell_type": "code",
   "execution_count": null,
   "id": "0c8d5f95-17f3-4c60-be25-3fd8ded337eb",
   "metadata": {
    "tags": []
   },
   "outputs": [],
   "source": [
    "# Importing csv datasets and converting to pandas dataframes\n",
    "generation_data_1 = pd.read_csv(\"./solar_dataset/Plant_1_Generation_Data.csv\")\n",
    "sensor_data_1 = pd.read_csv(\"./solar_dataset/Plant_1_Weather_Sensor_Data.csv\")"
   ]
  },
  {
   "cell_type": "markdown",
   "id": "50492b35-d2e4-4b53-b48a-25d65b4e7bdd",
   "metadata": {},
   "source": [
    "#### Fixing mismatch DATETIME"
   ]
  },
  {
   "cell_type": "code",
   "execution_count": null,
   "id": "89db735f-32f3-4b0b-975e-1613935f58ee",
   "metadata": {
    "tags": []
   },
   "outputs": [],
   "source": [
    "# Converting the date time format to match\n",
    "generation_data_1['DATE_TIME'] = pd.to_datetime(generation_data_1['DATE_TIME'],format = '%d-%m-%Y %H:%M')\n",
    "generation_data_1['DATE_TIME'] = generation_data_1['DATE_TIME'].dt.strftime('%Y-%m-%d %H:%M:%S')"
   ]
  },
  {
   "cell_type": "markdown",
   "id": "5735e917-09fe-4777-a830-0824971678ba",
   "metadata": {
    "tags": []
   },
   "source": [
    "#### Merging data frames on DATE_TIME attribute"
   ]
  },
  {
   "cell_type": "code",
   "execution_count": null,
   "id": "cf60936f-e9c3-4be6-a509-e0f2f4eacb41",
   "metadata": {
    "tags": []
   },
   "outputs": [],
   "source": [
    "# Merging two pandas data frames\n",
    "merged_data = generation_data_1.merge(sensor_data_1, on = 'DATE_TIME')\n",
    "\n",
    "merged_data"
   ]
  },
  {
   "cell_type": "markdown",
   "id": "b791583b-7d29-4f3e-ba07-3b084767eec1",
   "metadata": {},
   "source": [
    "#### Taking out 0 irradiance values"
   ]
  },
  {
   "cell_type": "code",
   "execution_count": null,
   "id": "055a9834-5a93-4aba-8604-7503cb3cc86b",
   "metadata": {
    "tags": []
   },
   "outputs": [],
   "source": [
    "# Filtering data that have irradiation\n",
    "condition = (merged_data['IRRADIATION'] > 0.0)\n",
    "filtered_data = merged_data[condition]"
   ]
  },
  {
   "cell_type": "code",
   "execution_count": null,
   "id": "304409a3-e5bd-425d-8051-c28d2a18fc07",
   "metadata": {
    "tags": []
   },
   "outputs": [],
   "source": [
    "# Setting specific viewing columns\n",
    "selected_columns = ['DATE_TIME','DC_POWER','AC_POWER','DAILY_YIELD','TOTAL_YIELD','AMBIENT_TEMPERATURE','MODULE_TEMPERATURE','IRRADIATION']\n",
    "\n",
    "filtered_data[selected_columns][100:150]"
   ]
  },
  {
   "cell_type": "markdown",
   "id": "815f681c-f1f2-4fab-96a5-4016d9a64672",
   "metadata": {},
   "source": [
    "## Scikit Learn Model setup"
   ]
  },
  {
   "cell_type": "markdown",
   "id": "119895cf-091d-466c-856f-699daa827117",
   "metadata": {},
   "source": [
    "#### Setting up arrays for scikit-learn"
   ]
  },
  {
   "cell_type": "code",
   "execution_count": null,
   "id": "9fa531d1-f734-4716-a1ce-c7dc8bad5b45",
   "metadata": {},
   "outputs": [],
   "source": [
    "# X contains features, y contains the target variable\n",
    "X = filtered_data['IRRADIATION'].values.reshape(-1,1)\n",
    "\n",
    "y = filtered_data['AC_POWER'].values"
   ]
  },
  {
   "cell_type": "markdown",
   "id": "3dfeaab6-ef27-4c80-bf36-5363ee5dc45b",
   "metadata": {},
   "source": [
    "### Splitting data to train and test"
   ]
  },
  {
   "cell_type": "code",
   "execution_count": null,
   "id": "db325e73-4877-4af5-a002-f06c75c2d1e5",
   "metadata": {
    "tags": []
   },
   "outputs": [],
   "source": [
    "# Split the data into training and testing sets\n",
    "X_train, X_test, y_train, y_test = train_test_split(X,y, test_size=0.2, random_state=42)"
   ]
  },
  {
   "cell_type": "code",
   "execution_count": null,
   "id": "3ee47d13-cdbd-4e68-ad1f-32f4b2cff0d8",
   "metadata": {
    "tags": []
   },
   "outputs": [],
   "source": [
    "X_train\n",
    "y_train"
   ]
  },
  {
   "cell_type": "markdown",
   "id": "34a60ee9-c137-4311-b233-7174176ff574",
   "metadata": {},
   "source": [
    "#### Training the model with the data"
   ]
  },
  {
   "cell_type": "code",
   "execution_count": null,
   "id": "48345dca-ac69-44bc-871d-9ea88c20f877",
   "metadata": {
    "tags": []
   },
   "outputs": [],
   "source": [
    "# Instantiate and terain a scikit-learn model (Linear Regresssion in the example)\n",
    "model = LinearRegression()\n",
    "model.fit(X_train, y_train)"
   ]
  },
  {
   "cell_type": "markdown",
   "id": "0c585ada-ad92-4df4-b6f4-70a3f47a3406",
   "metadata": {},
   "source": [
    "#### Predicting the power from trained model"
   ]
  },
  {
   "cell_type": "code",
   "execution_count": null,
   "id": "87ffd967-aa71-47ff-afd2-170d30ba0f00",
   "metadata": {
    "tags": []
   },
   "outputs": [],
   "source": [
    "# Make the predictions on the test set\n",
    "y_pred = model.predict(X_test)"
   ]
  },
  {
   "cell_type": "markdown",
   "id": "bc4d3903-1c13-4b9d-ab3c-3d120e1ec319",
   "metadata": {},
   "source": [
    "#### Evaluate the correctness of the model"
   ]
  },
  {
   "cell_type": "code",
   "execution_count": null,
   "id": "bc9079c2-5b7a-4cdb-acb8-d7e903f3253c",
   "metadata": {
    "tags": []
   },
   "outputs": [],
   "source": [
    "# Evaluate the model\n",
    "mse = mean_squared_error(y_test, y_pred)\n",
    "print(f'Mean Squared Error: {mse}')"
   ]
  },
  {
   "cell_type": "markdown",
   "id": "41eabb99-53bb-461c-b58e-b43c112194a3",
   "metadata": {},
   "source": [
    "#### Plotting regresssion using matplot lib"
   ]
  },
  {
   "cell_type": "code",
   "execution_count": null,
   "id": "440c5807-b8bc-4e6b-9729-f83f750ff378",
   "metadata": {
    "tags": []
   },
   "outputs": [],
   "source": [
    "#Plotting regression using matplot lib\n",
    "plt.scatter(X_test, y_test,s=5, color= \"black\")\n",
    "plt.plot(X_test, y_pred, color=\"blue\", linewidth=3)"
   ]
  }
 ],
 "metadata": {
  "kernelspec": {
   "display_name": "Python 3 (ipykernel)",
   "language": "python",
   "name": "python3"
  },
  "language_info": {
   "codemirror_mode": {
    "name": "ipython",
    "version": 3
   },
   "file_extension": ".py",
   "mimetype": "text/x-python",
   "name": "python",
   "nbconvert_exporter": "python",
   "pygments_lexer": "ipython3",
   "version": "3.11.5"
  }
 },
 "nbformat": 4,
 "nbformat_minor": 5
}
